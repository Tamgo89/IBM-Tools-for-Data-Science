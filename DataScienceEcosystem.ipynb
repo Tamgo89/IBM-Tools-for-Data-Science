{
 "cells": [
  {
   "cell_type": "markdown",
   "id": "0fa990fc",
   "metadata": {},
   "source": [
    "# Data Science Tools and Ecosystem"
   ]
  },
  {
   "cell_type": "markdown",
   "id": "40303246",
   "metadata": {},
   "source": [
    "## In this notebook, Data Science Tools and Ecosystem are summarized."
   ]
  },
  {
   "cell_type": "markdown",
   "id": "97eb781d",
   "metadata": {},
   "source": [
    "### Some of the popular languages that Data Scientists use are:"
   ]
  },
  {
   "cell_type": "markdown",
   "id": "cd23c760",
   "metadata": {},
   "source": [
    "1. Python\n",
    "2. R\n",
    "3. SQL\n",
    "4. JavaScript"
   ]
  },
  {
   "cell_type": "markdown",
   "id": "2cffcafd",
   "metadata": {},
   "source": [
    "#### Some of the commonly used libraries used by Data Scientists include:"
   ]
  },
  {
   "cell_type": "markdown",
   "id": "0f0d0002",
   "metadata": {},
   "source": [
    "1. Pandas\n",
    "2. Numpy\n",
    "3. Matplotlib"
   ]
  },
  {
   "cell_type": "markdown",
   "id": "c0fa7644",
   "metadata": {},
   "source": [
    "|Data Science Tools|\n",
    "|------------------|\n",
    "|Jupyter Lab|\n",
    "|Watson Studio IBM|\n",
    "|RStudio|"
   ]
  },
  {
   "cell_type": "markdown",
   "id": "bb1b261d",
   "metadata": {},
   "source": [
    "### Below are a few examples of evaluating arithmetic expressions in Python"
   ]
  },
  {
   "cell_type": "markdown",
   "id": "ef968e66",
   "metadata": {},
   "source": [
    "| Operator | Name | Example |\n",
    "|----------|------|---------|\n",
    "| + | Addition | x + y |\n",
    "| - | Substraction | x - y |\n",
    "| * | Multiplication | x * y |\n",
    "| / | Division | x / y |"
   ]
  },
  {
   "cell_type": "markdown",
   "id": "e00624fe",
   "metadata": {},
   "source": [
    "#### This a simple arithmetic expression to mutiply then add integers"
   ]
  },
  {
   "cell_type": "code",
   "execution_count": 4,
   "id": "1696dc2a",
   "metadata": {},
   "outputs": [
    {
     "data": {
      "text/plain": [
       "17"
      ]
     },
     "execution_count": 4,
     "metadata": {},
     "output_type": "execute_result"
    }
   ],
   "source": [
    "# This a simple arithmetic expression to mutiply then add integers\n",
    "(3*4)+5"
   ]
  },
  {
   "cell_type": "code",
   "execution_count": 5,
   "id": "cec9f29b",
   "metadata": {},
   "outputs": [
    {
     "data": {
      "text/plain": [
       "33.333333333333336"
      ]
     },
     "execution_count": 5,
     "metadata": {},
     "output_type": "execute_result"
    }
   ],
   "source": [
    "# This will convert 200 minutes to hours by diving by 60\n",
    "(200/6)"
   ]
  },
  {
   "cell_type": "markdown",
   "id": "05bbcf18",
   "metadata": {},
   "source": [
    "## *Objectives:*"
   ]
  },
  {
   "cell_type": "markdown",
   "id": "9c78c1ba",
   "metadata": {},
   "source": [
    "- Review the concepts learn about how to create and use a Jupyter notebook\n",
    "- List popular languages for Data Science\n",
    "- List popular libraries used by Data Scientists\n",
    "- Create a Github account\n",
    "- Create a markdown cell"
   ]
  },
  {
   "cell_type": "markdown",
   "id": "12af4db3",
   "metadata": {},
   "source": [
    "## Author:\n",
    "### Edfury Tamayo "
   ]
  },
  {
   "cell_type": "code",
   "execution_count": null,
   "id": "a0a0091d",
   "metadata": {},
   "outputs": [],
   "source": []
  }
 ],
 "metadata": {
  "kernelspec": {
   "display_name": "Python 3 (ipykernel)",
   "language": "python",
   "name": "python3"
  },
  "language_info": {
   "codemirror_mode": {
    "name": "ipython",
    "version": 3
   },
   "file_extension": ".py",
   "mimetype": "text/x-python",
   "name": "python",
   "nbconvert_exporter": "python",
   "pygments_lexer": "ipython3",
   "version": "3.11.7"
  }
 },
 "nbformat": 4,
 "nbformat_minor": 5
}
